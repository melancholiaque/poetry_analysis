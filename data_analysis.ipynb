{
 "cells": [
  {
   "cell_type": "code",
   "execution_count": 1,
   "metadata": {
    "autoscroll": false,
    "collapsed": false,
    "ein.hycell": false,
    "ein.tags": "worksheet-0",
    "slideshow": {
     "slide_type": "-"
    }
   },
   "outputs": [],
   "source": [
    "import numpy as np\n",
    "import pandas as pd\n",
    "import seaborn as sns\n",
    "import nltk\n",
    "\n",
    "sns.set_style(\"whitegrid\")"
   ]
  },
  {
   "cell_type": "code",
   "execution_count": 2,
   "metadata": {
    "autoscroll": false,
    "collapsed": false,
    "ein.hycell": false,
    "ein.tags": "worksheet-0",
    "slideshow": {
     "slide_type": "-"
    }
   },
   "outputs": [
    {
     "data": {
      "text/plain": [
       "Index(['Unnamed: 0', 'author', 'content'], dtype='object')"
      ]
     },
     "execution_count": 2,
     "metadata": {},
     "output_type": "execute_result"
    }
   ],
   "source": [
    "df = pd.read_csv('english.csv')\n",
    "df.columns"
   ]
  },
  {
   "cell_type": "code",
   "execution_count": 3,
   "metadata": {
    "autoscroll": false,
    "collapsed": false,
    "ein.hycell": false,
    "ein.tags": "worksheet-0",
    "slideshow": {
     "slide_type": "-"
    }
   },
   "outputs": [
    {
     "data": {
      "text/plain": [
       "Index(['author', 'content'], dtype='object')"
      ]
     },
     "execution_count": 3,
     "metadata": {},
     "output_type": "execute_result"
    }
   ],
   "source": [
    "df = df[['author', 'content']]\n",
    "df.columns"
   ]
  },
  {
   "cell_type": "code",
   "execution_count": 4,
   "metadata": {
    "autoscroll": false,
    "collapsed": false,
    "ein.hycell": false,
    "ein.tags": "worksheet-0",
    "slideshow": {
     "slide_type": "-"
    }
   },
   "outputs": [
    {
     "name": "stdout",
     "output_type": "stream",
     "text": [
      "droped 0 of 1658 rows\n"
     ]
    }
   ],
   "source": [
    "l1 = len(df)\n",
    "df.dropna(inplace=True)\n",
    "print(f'droped {l1-len(df)} of {l1} rows')"
   ]
  },
  {
   "cell_type": "code",
   "execution_count": 5,
   "metadata": {
    "autoscroll": false,
    "collapsed": false,
    "ein.hycell": false,
    "ein.tags": "worksheet-0",
    "slideshow": {
     "slide_type": "-"
    }
   },
   "outputs": [
    {
     "name": "stderr",
     "output_type": "stream",
     "text": [
      "/home/mel/.local/lib64/python3.6/site-packages/scipy/stats/stats.py:1713: FutureWarning: Using a non-tuple sequence for multidimensional indexing is deprecated; use `arr[tuple(seq)]` instead of `arr[seq]`. In the future this will be interpreted as an array index, `arr[np.array(seq)]`, which will result either in an error or a different result.\n",
      "  return np.add.reduce(sorted[indexer] * weights, axis=axis) / sumval\n"
     ]
    },
    {
     "data": {
      "text/plain": [
       "<matplotlib.axes._subplots.AxesSubplot at 0x7f5257b26278>"
      ]
     },
     "execution_count": 5,
     "metadata": {},
     "output_type": "execute_result"
    },
    {
     "data": {
      "image/png": "[encoded data removed]",
      "text/plain": [
       "<Figure size 432x288 with 1 Axes>"
      ]
     },
     "metadata": {},
     "output_type": "display_data"
    }
   ],
   "source": [
    "authors = df['author'].unique()\n",
    "authors_dist = np.array(list((df['author'] == a).sum() for a in authors))\n",
    "authors_dist.sort()\n",
    "sns.distplot(authors_dist)"
   ]
  },
  {
   "cell_type": "code",
   "execution_count": 6,
   "metadata": {
    "autoscroll": false,
    "collapsed": false,
    "ein.hycell": false,
    "ein.tags": "worksheet-0",
    "slideshow": {
     "slide_type": "-"
    }
   },
   "outputs": [
    {
     "name": "stdout",
     "output_type": "stream",
     "text": [
      "           author                                            content\n",
      "18     John Donne  Batter my heart, three-person'd God, for you  ...\n",
      "25  D.H. Lawrence  As a drenched, drowned bee  Hangs numb and hea...\n",
      "40     John Donne  DEAR love, for nothing less than thee  Would I...\n",
      "77    Oscar Wilde  Two crowned Kings, and One that stood alone  W...\n",
      "89  D.H. Lawrence  When the bare feet of the baby beat across the...\n"
     ]
    }
   ],
   "source": [
    "dist = [(a, (df['author'] == a).sum()) for a in authors]\n",
    "dist.sort(key=lambda x: -x[1])\n",
    "most_frequent = [n for n, _ in dist[:5]]\n",
    "mask = df['author'].apply(lambda x: x in most_frequent)\n",
    "most_freq_df = df[mask]\n",
    "print(most_freq_df.head())"
   ]
  },
  {
   "cell_type": "code",
   "execution_count": 7,
   "metadata": {
    "autoscroll": false,
    "collapsed": false,
    "ein.hycell": false,
    "ein.tags": "worksheet-0",
    "slideshow": {
     "slide_type": "-"
    }
   },
   "outputs": [
    {
     "name": "stdout",
     "output_type": "stream",
     "text": [
      "12 unique poets of 65\n"
     ]
    }
   ],
   "source": [
    "thre = 50\n",
    "dist = [(a, (df['author'] == a).sum()) for a in authors]\n",
    "droplist = [a for a, i in dist if i < thre]\n",
    "mask = df['author'].apply(lambda x: x not in droplist)\n",
    "thre_df1 = df[mask]\n",
    "take_list = [a for a, i in dist if i > thre]\n",
    "author_series, content_series = [], []\n",
    "for a in take_list:\n",
    "    author_series += [a] * thre\n",
    "    content_series += df[df['author'] == a]['content'].iloc[:thre].tolist()\n",
    "thre_df2 = pd.DataFrame(data={'author': author_series, 'content': content_series})\n",
    "balanced_df = pd.concat([thre_df1, thre_df2])\n",
    "print(f'{len(np.unique(balanced_df[\"author\"]))} unique poets of {len(np.unique(df[\"author\"]))}')"
   ]
  },
  {
   "cell_type": "code",
   "execution_count": 8,
   "metadata": {
    "autoscroll": false,
    "collapsed": false,
    "ein.hycell": false,
    "ein.tags": "worksheet-0",
    "slideshow": {
     "slide_type": "-"
    }
   },
   "outputs": [],
   "source": [
    "content = balanced_df['content']\n",
    "author = balanced_df['author']"
   ]
  },
  {
   "cell_type": "code",
   "execution_count": 9,
   "metadata": {
    "autoscroll": false,
    "collapsed": false,
    "ein.hycell": false,
    "ein.tags": "worksheet-0",
    "slideshow": {
     "slide_type": "-"
    }
   },
   "outputs": [
    {
     "name": "stdout",
     "output_type": "stream",
     "text": [
      "John Keats\n"
     ]
    }
   ],
   "source": [
    "print(author.iloc[0])"
   ]
  },
  {
   "cell_type": "code",
   "execution_count": 10,
   "metadata": {
    "autoscroll": false,
    "collapsed": false,
    "ein.hycell": false,
    "ein.tags": "worksheet-0",
    "slideshow": {
     "slide_type": "-"
    }
   },
   "outputs": [
    {
     "name": "stdout",
     "output_type": "stream",
     "text": [
      "Season of mists and mellow fruitfulness!  Close bosom-friend of the maturing sun;  Conspiring with him how to load and bless  With fruit the vines that round the thatch-eaves run;  To bend with apples the mossed cottage-trees,  And fill all fruit with ripeness to the core;  To swell the gourd, and plump the hazel shells  With a sweet kernel; to set budding more,  And still more, later flowers for the bees,  Until they think warm days will never cease,  For Summer has o'erbrimmed their clammy cells.  Who hath not seen thee oft amid thy store?  Sometimes whoever seeks abroad may find  Thee sitting careless on a granary floor,  Thy hair soft-lifted by the winnowing wind;  Or on a half-reaped furrow sound asleep,  Drowsed with the fume of poppies, while thy hook  Spares the next swath and all its twined flowers;  And sometimes like a gleaner thou dost keep  Steady thy laden head across a brook;  Or by a cider-press, with patient look,  Thou watchest the last oozings, hours by hours.  Where are the songs of Spring? Ay, where are they?  Think not of them, thou hast thy music too, -  While barred clouds bloom the soft-dying day  And touch the stubble-plains with rosy hue;  Then in a wailful choir the small gnats mourn  Among the river sallows, borne aloft  Or sinking as the light wind lives or dies;  And full-grown lambs loud bleat from hilly bourn;  Hedge-crickets sing, and now with treble soft  The redbreast whistles from a garden-croft;  And gathering swallows twitter in the skies.\t\t\t\t\t\n"
     ]
    }
   ],
   "source": [
    "print(content.iloc[0])"
   ]
  },
  {
   "cell_type": "code",
   "execution_count": 11,
   "metadata": {
    "autoscroll": false,
    "collapsed": false,
    "ein.hycell": false,
    "ein.tags": "worksheet-0",
    "slideshow": {
     "slide_type": "-"
    }
   },
   "outputs": [],
   "source": [
    "import re\n",
    "\n",
    "def clean(string):\n",
    "    for char in ['\\r', '\\n', '-', ',', '.', ';', '(', ')', '!', '?']:\n",
    "        string = string.replace(char, ' ')\n",
    "    return re.sub('\\s+', ' ', string)"
   ]
  },
  {
   "cell_type": "code",
   "execution_count": 12,
   "metadata": {
    "autoscroll": false,
    "collapsed": false,
    "ein.hycell": false,
    "ein.tags": "worksheet-0",
    "slideshow": {
     "slide_type": "-"
    }
   },
   "outputs": [],
   "source": [
    "from nltk.stem import PorterStemmer\n",
    "\n",
    "stemmer = PorterStemmer()\n",
    "content = content.apply(lambda x: stemmer.stem(clean(x)))"
   ]
  },
  {
   "cell_type": "code",
   "execution_count": 13,
   "metadata": {
    "autoscroll": false,
    "collapsed": false,
    "ein.hycell": false,
    "ein.tags": "worksheet-0",
    "slideshow": {
     "slide_type": "-"
    }
   },
   "outputs": [
    {
     "name": "stdout",
     "output_type": "stream",
     "text": [
      "season of mists and mellow fruitfulness close bosom friend of the maturing sun conspiring with him how to load and bless with fruit the vines that round the thatch eaves run to bend with apples the mossed cottage trees and fill all fruit with ripeness to the core to swell the gourd and plump the hazel shells with a sweet kernel to set budding more and still more later flowers for the bees until they think warm days will never cease for summer has o'erbrimmed their clammy cells who hath not seen thee oft amid thy store sometimes whoever seeks abroad may find thee sitting careless on a granary floor thy hair soft lifted by the winnowing wind or on a half reaped furrow sound asleep drowsed with the fume of poppies while thy hook spares the next swath and all its twined flowers and sometimes like a gleaner thou dost keep steady thy laden head across a brook or by a cider press with patient look thou watchest the last oozings hours by hours where are the songs of spring ay where are they think not of them thou hast thy music too while barred clouds bloom the soft dying day and touch the stubble plains with rosy hue then in a wailful choir the small gnats mourn among the river sallows borne aloft or sinking as the light wind lives or dies and full grown lambs loud bleat from hilly bourn hedge crickets sing and now with treble soft the redbreast whistles from a garden croft and gathering swallows twitter in the skies \n"
     ]
    }
   ],
   "source": [
    "print(content.iloc[0])"
   ]
  },
  {
   "cell_type": "code",
   "execution_count": 14,
   "metadata": {
    "autoscroll": false,
    "collapsed": false,
    "ein.hycell": false,
    "ein.tags": "worksheet-0",
    "slideshow": {
     "slide_type": "-"
    }
   },
   "outputs": [],
   "source": [
    "from sklearn.feature_extraction.text import TfidfVectorizer\n",
    "\n",
    "vectorizer = TfidfVectorizer()\n",
    "X = vectorizer.fit_transform(content)"
   ]
  },
  {
   "cell_type": "code",
   "execution_count": 15,
   "metadata": {
    "autoscroll": false,
    "collapsed": false,
    "ein.hycell": false,
    "ein.tags": "worksheet-0",
    "slideshow": {
     "slide_type": "-"
    }
   },
   "outputs": [],
   "source": [
    "from sklearn.preprocessing import LabelEncoder\n",
    "le = LabelEncoder()\n",
    "y = le.fit_transform(author)"
   ]
  },
  {
   "cell_type": "code",
   "execution_count": 17,
   "metadata": {
    "autoscroll": false,
    "collapsed": false,
    "ein.hycell": false,
    "ein.tags": "worksheet-0",
    "slideshow": {
     "slide_type": "-"
    }
   },
   "outputs": [],
   "source": [
    "from sklearn.model_selection import train_test_split\n",
    "from sklearn.metrics import accuracy_score\n",
    "\n",
    "X_train, X_test, y_train, y_test = train_test_split(X, y, test_size=0.3)"
   ]
  },
  {
   "cell_type": "code",
   "execution_count": 18,
   "metadata": {
    "autoscroll": false,
    "collapsed": false,
    "ein.hycell": false,
    "ein.tags": "worksheet-0",
    "slideshow": {
     "slide_type": "-"
    }
   },
   "outputs": [
    {
     "name": "stdout",
     "output_type": "stream",
     "text": [
      "accuracy: 0.8115631691648822\n"
     ]
    }
   ],
   "source": [
    "from sklearn.ensemble import RandomForestClassifier\n",
    "\n",
    "rfc = RandomForestClassifier(n_estimators=500, n_jobs=-1, criterion='entropy')\n",
    "rfc.fit(X_train, y_train)\n",
    "if X_test.shape[0]:\n",
    "   print(f'accuracy: {accuracy_score(rfc.predict(X_test), y_test)}')"
   ]
  },
  {
   "cell_type": "code",
   "execution_count": 19,
   "metadata": {
    "autoscroll": false,
    "collapsed": false,
    "ein.hycell": false,
    "ein.tags": "worksheet-0",
    "slideshow": {
     "slide_type": "-"
    }
   },
   "outputs": [
    {
     "name": "stdout",
     "output_type": "stream",
     "text": [
      "accuracy: 0.9207708779443254\n"
     ]
    }
   ],
   "source": [
    "from sklearn.neural_network import MLPClassifier\n",
    "\n",
    "mlp = MLPClassifier(hidden_layer_sizes=(50, 50))\n",
    "mlp.fit(X_train, y_train)\n",
    "if X_test.shape[0]:\n",
    "   print(f'accuracy: {accuracy_score(mlp.predict(X_test), y_test)}')"
   ]
  },
  {
   "cell_type": "code",
   "execution_count": 20,
   "metadata": {
    "autoscroll": false,
    "collapsed": false,
    "ein.hycell": false,
    "ein.tags": "worksheet-0",
    "slideshow": {
     "slide_type": "-"
    }
   },
   "outputs": [
    {
     "name": "stdout",
     "output_type": "stream",
     "text": [
      "accuracy: 0.8372591006423983\n"
     ]
    }
   ],
   "source": [
    "from sklearn.svm import SVC\n",
    "\n",
    "svc = SVC(kernel='rbf', C=2.0, gamma=1.0)\n",
    "svc.fit(X_train, y_train)\n",
    "if X_test.shape[0]:\n",
    "   print(f'accuracy: {accuracy_score(svc.predict(X_test), y_test)}')"
   ]
  },
  {
   "cell_type": "code",
   "execution_count": 21,
   "metadata": {
    "autoscroll": false,
    "collapsed": false,
    "ein.hycell": false,
    "ein.tags": "worksheet-0",
    "slideshow": {
     "slide_type": "-"
    }
   },
   "outputs": [
    {
     "name": "stdout",
     "output_type": "stream",
     "text": [
      "accuracy: 0.8758029978586723\n"
     ]
    }
   ],
   "source": [
    "from sklearn.ensemble import VotingClassifier\n",
    "\n",
    "vc = VotingClassifier([\n",
    "   ('rfc', rfc),\n",
    "   ('mlp', mlp),\n",
    "   ('svc', svc)\n",
    "])\n",
    "\n",
    "vc.fit(X_train, y_train)\n",
    "if X_test.shape[0]:\n",
    "   print(f'accuracy: {accuracy_score(vc.predict(X_test), y_test)}')"
   ]
  }
 ],
 "metadata": {
  "kernelspec": {
   "display_name": "Python 3",
   "name": "python3"
  },
  "name": "data_analysis.ipynb"
 },
 "nbformat": 4,
 "nbformat_minor": 2
}
